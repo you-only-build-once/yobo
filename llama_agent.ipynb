{
 "cells": [
  {
   "cell_type": "code",
   "execution_count": null,
   "id": "59d6ebee",
   "metadata": {},
   "outputs": [
    {
     "name": "stdout",
     "output_type": "stream",
     "text": [
      "Requirement already satisfied: h5py==3.8.0 in /Users/shreyas/miniconda3/envs/llama/lib/python3.11/site-packages (3.8.0)\n",
      "Requirement already satisfied: numpy>=1.14.5 in /Users/shreyas/miniconda3/envs/llama/lib/python3.11/site-packages (from h5py==3.8.0) (2.2.6)\n"
     ]
    }
   ],
   "source": [
    "!pip install h5py==3.8.0\n",
    "!pip install llama-index\n",
    "!pip install llama-index-llms-ollama\n",
    "!pip install llama-index-embeddings-clip\n",
    "!pip install git+https://github.com/openai/CLIP.git\n",
    "!pip install llama-index-vector-stores-postgres\n",
    "!pip install llama-index-vector-stores-qdrant\n",
    "!pip install nbconvert"
   ]
  },
  {
   "cell_type": "code",
   "execution_count": null,
   "id": "bf32363f",
   "metadata": {},
   "outputs": [],
   "source": [
    "from llama_index.llms.ollama import Ollama\n",
    "from llama_index.embeddings.clip import ClipEmbedding\n",
    "from llama_index.core import Settings\n",
    "from llama_index.embeddings.openai import OpenAIEmbedding\n",
    "\n",
    "import os\n",
    "\n",
    "os.environ[\"OPENAI_API_KEY\"] = \"\"\n",
    "\n",
    "Settings.llm = Ollama(model=\"llama3.2:latest\", request_timeout=120.0)\n",
    "Settings.embed_model = OpenAIEmbedding(model=\"text-embedding-ada-002\")\n",
    "Settings.image_embed_model = ClipEmbedding() \n"
   ]
  },
  {
   "cell_type": "code",
   "execution_count": null,
   "id": "1826472e",
   "metadata": {},
   "outputs": [
    {
     "name": "stderr",
     "output_type": "stream",
     "text": [
      "Ignoring wrong pointing object 82 0 (offset 0)\n",
      "Ignoring wrong pointing object 81 0 (offset 0)\n"
     ]
    },
    {
     "name": "stdout",
     "output_type": "stream",
     "text": [
      "HI\n",
      "BYE\n"
     ]
    },
    {
     "name": "stderr",
     "output_type": "stream",
     "text": [
      "/Users/shreyas/miniconda3/envs/llama/lib/python3.11/site-packages/llama_index/vector_stores/qdrant/base.py:703: UserWarning: Payload indexes have no effect in the local Qdrant. Please use server Qdrant if you need payload indexes.\n",
      "  self._client.create_payload_index(\n"
     ]
    }
   ],
   "source": [
    "from llama_index.core.indices import MultiModalVectorStoreIndex\n",
    "from llama_index.vector_stores.qdrant import QdrantVectorStore\n",
    "from llama_index.core import SimpleDirectoryReader, StorageContext\n",
    "\n",
    "import qdrant_client\n",
    "from llama_index.core import SimpleDirectoryReader\n",
    "\n",
    "\n",
    "# Create a local Qdrant vector store\n",
    "try:\n",
    "    client._client._flock_file.close()\n",
    "    client = qdrant_client.QdrantClient(path=\"qdrant_img_db\")\n",
    "except:\n",
    "    client = qdrant_client.QdrantClient(path=\"qdrant_img_db\")\n",
    "\n",
    "text_store = QdrantVectorStore(\n",
    "    client=client, collection_name=\"text_collection\"\n",
    ")\n",
    "image_store = QdrantVectorStore(\n",
    "    client=client, collection_name=\"image_collection\"\n",
    ")\n",
    "storage_context = StorageContext.from_defaults(\n",
    "    vector_store=text_store, image_store=image_store\n",
    ")\n",
    "\n",
    "# Create the MultiModal index\n",
    "documents = SimpleDirectoryReader(\"test_data\").load_data()\n",
    "index = MultiModalVectorStoreIndex.from_documents(\n",
    "    documents,\n",
    "    storage_context=storage_context,\n",
    ")"
   ]
  },
  {
   "cell_type": "code",
   "execution_count": 18,
   "id": "c2ff3c2d",
   "metadata": {},
   "outputs": [],
   "source": [
    "from llama_index.llms.ollama import Ollama\n",
    "from llama_index.embeddings.clip import ClipEmbedding\n",
    "from llama_index.core.indices import MultiModalVectorStoreIndex\n",
    "from llama_index.core import VectorStoreIndex, StorageContext\n",
    "\n",
    "\n",
    "\n",
    "# — index your documents & images exactly as before —\n",
    "index = MultiModalVectorStoreIndex.from_documents(\n",
    "    documents,\n",
    "    storage_context=storage_context,\n",
    ")"
   ]
  },
  {
   "cell_type": "code",
   "execution_count": 20,
   "id": "b331c6e7",
   "metadata": {},
   "outputs": [
    {
     "name": "stdout",
     "output_type": "stream",
     "text": [
      "There is no information about a jacket or an image in the provided context. The text appears to be related to mathematics and probability theory, discussing the HJB equation and its applications. There is no mention of a visual image or a person wearing a jacket.\n"
     ]
    }
   ],
   "source": [
    "from llama_index.llms.ollama import Ollama\n",
    "from llama_index.embeddings.clip import ClipEmbedding\n",
    "from llama_index.core.indices import MultiModalVectorStoreIndex\n",
    "from llama_index.core import VectorStoreIndex, StorageContext\n",
    "\n",
    "\n",
    "\n",
    "# — index your documents & images exactly as before —\n",
    "index = MultiModalVectorStoreIndex.from_documents(\n",
    "    documents,\n",
    "    storage_context=storage_context,\n",
    ")\n",
    "\n",
    "# — then query with Scout driving the answers —\n",
    "query_engine = index.as_query_engine()\n",
    "response = query_engine.query(\"what is the color of the jacket the man is wearin in the image 20241213\")\n",
    "print(response)\n"
   ]
  },
  {
   "cell_type": "code",
   "execution_count": 63,
   "id": "a5b041c8",
   "metadata": {},
   "outputs": [],
   "source": [
    "test_query = \"What is acceptance rejection algorithm\"\n",
    "# generate  retraieval results\n",
    "retriever = index.as_retriever(similarity_top_k=3, image_similarity_top_k=5)\n",
    "retrieval_results = retriever.retrieve(test_query)"
   ]
  },
  {
   "cell_type": "code",
   "execution_count": 65,
   "id": "a268983b",
   "metadata": {},
   "outputs": [
    {
     "data": {
      "text/markdown": [
       "**Node ID:** e6c74d3f-05b7-4a41-ac02-3b0b5b00826b<br>**Similarity:** 0.8305056111749672<br>**Text:** the following. Suppose there is another density g(x) from which it is easy to sample and\n",
       "suppose that there is a constant c> 1 such that\n",
       "f(x)\n",
       "g(x) ≤c\n",
       "for all x, and we may consider the smallest such constant. The acceptance-rejection algo-\n",
       "rithm consists of the following steps:\n",
       "1. Generate Z from g\n",
       "2. Generate an independent uniform [0 ,1] random variable U\n",
       "3. Is U ≤ f(Z)\n",
       "cg(Z) ? If yes then return Z (accept) and if not then repeat (go to step 1).\n",
       "The output random variable, say X, will be in a set A if\n",
       "1 {X∈A}= 1 {Z1∈A}1 {U1≤f(Z1)\n",
       "cg(Z1) }+\n",
       "∞∑\n",
       "k=2\n",
       "\n",
       "\n",
       "k−1∏\n",
       "j=1\n",
       "1 {Uj>\n",
       "f(Zj)\n",
       "cg(Zj) }\n",
       "\n",
       "1 {Zk∈A}1 {Uk≤f(Zk)\n",
       "cg(Zk) }\n",
       "But\n",
       "E(1 {Z∈A}1 {U≤f(Z)\n",
       "cg(Z) }) =\n",
       "∫\n",
       "1 {z∈A}E(1 {U≤f(z)\n",
       "cg(z) })g(z)dz= 1\n",
       "c\n",
       "∫\n",
       "A\n",
       "f(z)dz\n",
       "and using the independence of the random variables in the acceptance-rejection algorithm\n",
       "we see that\n",
       "P(X ∈A) = 1\n",
       "c\n",
       "∫\n",
       "A\n",
       "f(z)dz+ 1\n",
       "c\n",
       "∫\n",
       "A\n",
       "f(z)dz\n",
       "∞∑\n",
       "k=2\n",
       "(1 −1\n",
       "c)k−1 =\n",
       "∫\n",
       "A\n",
       "f(z)dz\n",
       "This shows that indeed the acceptance rejection algorithm does produce random variables\n",
       "with the correct density.\n",
       "To understand better how the algorithm behaves, let N be the number of cycles needed\n",
       "to produce the desired random variable. Clearly\n",
       "P(N = k) =\n",
       "[∫\n",
       "P(U >f(z)\n",
       "cg(z))g(z)dz\n",
       "]k−1 [\n",
       "1 −\n",
       "∫\n",
       "P(U >f(z)\n",
       "cg(z))g(z)dz\n",
       "]\n",
       ", k = 1,2,...\n",
       "= (1 −1\n",
       "c)k−1 1\n",
       "c,\n",
       "which is the geometric law, and therefore E(N) = c. This explains the role that the\n",
       "constant c plays.\n",
       "Now acceptance-rejection can be combined with Monte Carlo somewhat in the way\n",
       "importance sampling is done as follows. Suppose that it is hard to sample from f(x) and\n",
       "that there is another density g(x) and a constant c >1 such that f(x)/g(x) ≤c for all\n",
       "30<br>"
      ],
      "text/plain": [
       "<IPython.core.display.Markdown object>"
      ]
     },
     "metadata": {},
     "output_type": "display_data"
    }
   ],
   "source": [
    "from llama_index.core.response.notebook_utils import display_source_node\n",
    "from llama_index.core.schema import ImageNode\n",
    "\n",
    "retrieved_image = []\n",
    "for res_node in retrieval_results:\n",
    "    if isinstance(res_node.node, ImageNode):\n",
    "        retrieved_image.append(res_node.node.metadata[\"file_path\"])\n",
    "    else:\n",
    "        display_source_node(res_node, source_length=2000)\n",
    "\n"
   ]
  },
  {
   "cell_type": "code",
   "execution_count": null,
   "id": "2c5a14c3",
   "metadata": {},
   "outputs": [
    {
     "name": "stdout",
     "output_type": "stream",
     "text": [
      "Unfortunately, there is no information in the provided context about who teaches Math 158. The text only discusses the Hamilton-Jacobi-Bellman equation for stochastic differential equations and does not mention a specific class or instructor.\n"
     ]
    }
   ],
   "source": [
    "from llama_index.llms.ollama import Ollama\n",
    "from llama_index.embeddings.clip import ClipEmbedding\n",
    "from llama_index.core.indices import MultiModalVectorStoreIndex\n",
    "from llama_index.core import VectorStoreIndex, StorageContext\n",
    "\n",
    "\n",
    "\n",
    "# — index your documents & images exactly as before —\n",
    "index = MultiModalVectorStoreIndex.from_documents(\n",
    "    documents,\n",
    "    storage_context=storage_context,\n",
    ")\n",
    "\n",
    "# — then query with Scout driving the answers —\n",
    "query_engine = index.as_query_engine()\n",
    "response = query_engine.query(\"\")\n",
    "print(response)\n"
   ]
  },
  {
   "cell_type": "code",
   "execution_count": 23,
   "id": "24c3dc76",
   "metadata": {},
   "outputs": [],
   "source": [
    "client._client._flock_file.close()"
   ]
  }
 ],
 "metadata": {
  "kernelspec": {
   "display_name": "llama",
   "language": "python",
   "name": "python3"
  },
  "language_info": {
   "codemirror_mode": {
    "name": "ipython",
    "version": 3
   },
   "file_extension": ".py",
   "mimetype": "text/x-python",
   "name": "python",
   "nbconvert_exporter": "python",
   "pygments_lexer": "ipython3",
   "version": "3.11.11"
  }
 },
 "nbformat": 4,
 "nbformat_minor": 5
}
